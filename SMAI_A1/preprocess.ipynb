{
 "cells": [
  {
   "cell_type": "code",
   "execution_count": 1,
   "metadata": {},
   "outputs": [
    {
     "data": {
      "text/plain": [
       "29.97002997002997"
      ]
     },
     "execution_count": 1,
     "metadata": {},
     "output_type": "execute_result"
    }
   ],
   "source": [
    "import cv2\n",
    "import os\n",
    "\n",
    "# Path to the video file\n",
    "video_path = \"segment.mp4\"\n",
    "\n",
    "# Output folder to save frames\n",
    "output_folder = \"frames\"\n",
    "os.makedirs(output_folder, exist_ok=True)\n",
    "\n",
    "# Open the video file\n",
    "cap = cv2.VideoCapture(video_path)\n",
    "\n",
    "# Check if the video was successfully opened\n",
    "if not cap.isOpened():\n",
    "    print(\"Error: Could not open video.\")\n",
    "    exit()\n",
    "\n",
    "frame_count = 0\n",
    "fps = cap.get(cv2.CAP_PROP_FPS)\n",
    "fps\n",
    "# Read frames from the video\n",
    "# while True:\n",
    "#     ret, frame = cap.read()\n",
    "#     if not ret:\n",
    "#         print(\"End of video or error reading frame.\")\n",
    "#         break\n",
    "\n",
    "#     # Save the current frame as an image\n",
    "#     frame_filename = os.path.join(output_folder, f\"frame_{frame_count:04d}.jpg\")\n",
    "#     cv2.imwrite(frame_filename, frame)\n",
    "#     print(f\"Saved {frame_filename}\")\n",
    "\n",
    "#     frame_count += 1\n",
    "\n",
    "# # Release resources\n",
    "# cap.release()\n",
    "# print(f\"Extraction complete. {frame_count} frames saved in '{output_folder}'.\")\n"
   ]
  },
  {
   "cell_type": "code",
   "execution_count": 2,
   "metadata": {},
   "outputs": [
    {
     "name": "stdout",
     "output_type": "stream",
     "text": [
      "Video saved to output_video.mp4\n"
     ]
    }
   ],
   "source": [
    "\n",
    "def create_video(frame_paths, output_video_path, fps):\n",
    "    if not frame_paths:\n",
    "        print(\"No frames to create a video.\")\n",
    "        return\n",
    "\n",
    "    first_frame = cv2.imread(frame_paths[0])\n",
    "    height, width, layers = first_frame.shape\n",
    "    frame_size = (width, height)\n",
    "\n",
    "    fourcc = cv2.VideoWriter_fourcc(*'mp4v') \n",
    "    out = cv2.VideoWriter(output_video_path, fourcc, fps, frame_size)\n",
    "\n",
    "    for frame_path in frame_paths:\n",
    "        frame = cv2.imread(frame_path)\n",
    "        out.write(frame)  \n",
    "\n",
    "    out.release()\n",
    "    print(f\"Video saved to {output_video_path}\")\n",
    "\n",
    "\n",
    "output_folder = \"frames\"       \n",
    "output_video_path = \"output_video.mp4\" \n",
    "fps = 10\n",
    "\n",
    "frame_paths = [f'frames/frame_00{i}.jpg' for i in range(65, 76)]\n",
    "create_video(frame_paths, output_video_path, fps)\n"
   ]
  },
  {
   "cell_type": "code",
   "execution_count": null,
   "metadata": {},
   "outputs": [],
   "source": []
  }
 ],
 "metadata": {
  "kernelspec": {
   "display_name": "Python 3",
   "language": "python",
   "name": "python3"
  },
  "language_info": {
   "codemirror_mode": {
    "name": "ipython",
    "version": 3
   },
   "file_extension": ".py",
   "mimetype": "text/x-python",
   "name": "python",
   "nbconvert_exporter": "python",
   "pygments_lexer": "ipython3",
   "version": "3.13.1"
  }
 },
 "nbformat": 4,
 "nbformat_minor": 2
}
